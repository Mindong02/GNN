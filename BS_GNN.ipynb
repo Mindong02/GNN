{
 "cells": [
  {
   "cell_type": "code",
   "execution_count": 1,
   "id": "a879525f-2e4c-4c37-bb84-184c405ac1a2",
   "metadata": {},
   "outputs": [],
   "source": [
    "import torch\n",
    "from torch_geometric.data import Data\n",
    "import numpy as np\n",
    "import pandas as pd\n",
    "import torch.nn as nn\n",
    "import torch.nn.functional as F\n",
    "from torch_geometric.nn import GCNConv"
   ]
  },
  {
   "cell_type": "code",
   "execution_count": 2,
   "id": "13c6c26f-d60f-4911-91e1-e0347ac85776",
   "metadata": {},
   "outputs": [
    {
     "name": "stdout",
     "output_type": "stream",
     "text": [
      "tensor([[100., 500., 700.],\n",
      "        [900., 500., 700.],\n",
      "        [500., 250., 200.],\n",
      "        [  0.,   0.,   0.],\n",
      "        [ 10.,   0.,   0.]])\n",
      "tensor([[0, 0, 0, 0, 0],\n",
      "        [3, 4, 5, 6, 7]])\n",
      "tensor([0, 0, 0, 1, 1, 1, 1, 1, 1, 1])\n"
     ]
    }
   ],
   "source": [
    "df = pd.read_csv(\"C:/Users/admin/Desktop/random.csv\")  # 로컬에 저장된 CSV 경로\n",
    "\n",
    "# 1. 기지국 노드 생성\n",
    "base_stations = df.copy() \n",
    "base_stations[\"type\"] = 0  # type 0 = 기지국\n",
    "base_stations_features = base_stations[[\"x\", \"y\", \"radius\"]].values\n",
    "num_base_stations = len(base_stations)\n",
    "\n",
    "# 2. 격자 노드 생성 (10m 간격) 총 10,000개 생성\n",
    "grid_x, grid_y = np.meshgrid(np.arange(0, 1000, 10), np.arange(0, 1000, 10))\n",
    "grid_coords = np.stack((grid_x.ravel(), grid_y.ravel()), axis=1)\n",
    "num_grids = len(grid_coords)\n",
    "\n",
    "grid_radii = np.zeros((num_grids, 1))\n",
    "grid_features = np.hstack((grid_coords, grid_radii))\n",
    "grid_types = np.ones((num_grids, 1))  # type 1 = 격자점\n",
    "\n",
    "# 3. 전체 노드 결합\n",
    "all_features = np.vstack((base_stations_features, grid_features)) # (10003,3)\n",
    "all_types = np.vstack((base_stations[\"type\"].values.reshape(-1, 1), grid_types))\n",
    "\n",
    "x = torch.tensor(all_features, dtype=torch.float) # tensor로 변환시켜주기 \n",
    "node_type = torch.tensor(all_types, dtype=torch.long).squeeze()\n",
    "\n",
    "# 4. 엣지 연결: 기지국 ↔ 커버 가능한 격자점\n",
    "edge_index_list = []\n",
    "\n",
    "# 기지국의 위치와 격자점 사이의 거리가 반경 안에 들어오면 엣지 하나 생성\n",
    "for i, (bx, by, br) in enumerate(base_stations_features):\n",
    "    distances = np.sqrt((grid_coords[:, 0] - bx) ** 2 + (grid_coords[:, 1] - by) ** 2)\n",
    "    covered_indices = np.where(distances <= br)[0]\n",
    "    for j in covered_indices:\n",
    "        edge_index_list.append([i, num_base_stations + j])  # 기지국 → 격자점\n",
    "\n",
    "# edge_index 생성 (기지국 = 0, 1, 2 니까 격자점 인덱스는 3부터 시작)\n",
    "edge_index = torch.tensor(edge_index_list, dtype=torch.long).t().contiguous()\n",
    "\n",
    "# PyTorch Geometric Data 객체 생성\n",
    "data = Data(x=x, edge_index=edge_index) # x=(x,y,반경) , edge_index=그래프의 엣지 목록\n",
    "data.num_base_stations = num_base_stations\n",
    "data.num_grids = num_grids\n",
    "data.node_type = node_type\n",
    "\n",
    "data\n",
    "\n",
    "print(data.x[:5])          # 앞의 몇 개 노드 특성 (기지국들)\n",
    "print(data.edge_index[:, :5])  # 앞의 몇 개 엣지\n",
    "print(data.node_type[:10])     # 노드 타입 정보 (0, 0, 0, 1, 1, ...)"
   ]
  },
  {
   "cell_type": "code",
   "execution_count": 3,
   "id": "18c8bbe3-b4da-4509-9b63-0c3b3cd297dd",
   "metadata": {},
   "outputs": [],
   "source": [
    "# import matplotlib.pyplot as plt\n",
    "\n",
    "# # 기지국 좌표\n",
    "# base_coords = base_stations_features[:, :2]\n",
    "# # 격자점 좌표\n",
    "# grid_coords = grid_features[:, :2]\n",
    "\n",
    "# # 엣지 시각화를 위한 위치 변환\n",
    "# edge_index_np = edge_index.numpy()\n",
    "# edges = edge_index_np.T  # (E, 2)\n",
    "\n",
    "# plt.figure(figsize=(10, 10))\n",
    "\n",
    "# # 격자점 시각화\n",
    "# plt.scatter(grid_coords[:, 0], grid_coords[:, 1], s=1, color='blue', label=\"Grid Point\")\n",
    "\n",
    "# # 기지국 시각화\n",
    "# plt.scatter(base_coords[:, 0], base_coords[:, 1], s=100, color='red', marker='o', label=\"Base Station\")\n",
    "\n",
    "# # 엣지 시각화 (기지국 → 격자점)\n",
    "# for src, dst in edges[::100]:  # 너무 많으니 일부만 표시\n",
    "#     x0, y0 = all_features[src][:2]\n",
    "#     x1, y1 = all_features[dst][:2]\n",
    "#     plt.plot([x0, x1], [y0, y1], color='gray', linewidth=0.2)\n",
    "\n",
    "# plt.legend()\n",
    "# plt.title(\"Graph Representation: Base Stations → Covered Grid Points\")\n",
    "# plt.xlim(0, 1000)\n",
    "# plt.ylim(0, 1000)\n",
    "# plt.gca().set_aspect('equal', adjustable='box')\n",
    "# plt.grid(True)\n",
    "# plt.show()\n",
    "\n",
    "# print(f\"총 노드 수: {data.num_nodes}\")  # 기지국 + 격자점\n",
    "# print(f\"총 엣지 수: {data.edge_index.shape[1]}\")  # 전체 엣지 개수\n",
    "# print(f\"기지국당 평균 연결 수: {data.edge_index.shape[1] // data.num_base_stations}\")\n"
   ]
  },
  {
   "cell_type": "code",
   "execution_count": 4,
   "id": "e52461ac-640b-4958-8801-50ae88e977e0",
   "metadata": {},
   "outputs": [],
   "source": [
    "from torch_geometric.nn import GCNConv\n",
    "import torch.nn as nn\n",
    "import torch.nn.functional as F\n",
    "\n",
    "class GNNSelector(nn.Module):\n",
    "    def __init__(self, in_channels, hidden_channels):\n",
    "        super().__init__()\n",
    "        self.conv1 = GCNConv(in_channels, hidden_channels, normalize=False)\n",
    "        self.bn1 = nn.BatchNorm1d(hidden_channels)\n",
    "        self.conv2 = GCNConv(hidden_channels, hidden_channels, normalize=False)\n",
    "        self.bn2 = nn.BatchNorm1d(hidden_channels)\n",
    "        self.dropout = nn.Dropout(0.2)\n",
    "        self.out = nn.Linear(hidden_channels, 1)\n",
    "\n",
    "        # 초기 weight/bias\n",
    "        nn.init.constant_(self.out.bias, 0.0)\n",
    "\n",
    "    def forward(self, x, edge_index, node_type):\n",
    "        h = self.conv1(x, edge_index)\n",
    "        h = self.bn1(h)\n",
    "        h = F.relu(h)\n",
    "        h = self.dropout(h)\n",
    "\n",
    "        h = self.conv2(h, edge_index)\n",
    "        h = self.bn2(h)\n",
    "        h = F.relu(h)\n",
    "        h = self.dropout(h)\n",
    "\n",
    "        base_mask = (node_type == 0)\n",
    "        base_h = h[base_mask]  # (num_base_stations, hidden)\n",
    "        logits = self.out(base_h).squeeze(-1)  # shape: (num_base_stations,)\n",
    "\n",
    "        prob = F.softmax(logits, dim=0)  # softmax로 정규화\n",
    "        return prob"
   ]
  },
  {
   "cell_type": "code",
   "execution_count": 5,
   "id": "2bf16e43-2ee8-4dd3-b07c-659a3e4f8b63",
   "metadata": {},
   "outputs": [],
   "source": [
    "from torch_scatter import scatter_add\n",
    "\n",
    "def compute_coverage_loss_softmax(prob, edge_index, num_base_stations, num_grids, alpha=1.0):\n",
    "    device = prob.device\n",
    "    base_indices = edge_index[0]\n",
    "    grid_indices = edge_index[1] - num_base_stations  # 격자점 인덱스 정렬\n",
    "\n",
    "    # 확률 기반 커버리지 합산 (soft coverage)\n",
    "    coverage_sum = scatter_add(prob[base_indices], grid_indices, dim=0, dim_size=num_grids)\n",
    "    grid_coverage = torch.clamp(coverage_sum, max=1.0)\n",
    "\n",
    "    # uncovered loss: 1.0 - 커버율\n",
    "    uncovered_loss = 1.0 - grid_coverage\n",
    "    uncovered_ratio = uncovered_loss.mean()\n",
    "\n",
    "    # softmax 기반에서는 selected_ratio는 항상 1이므로 의미가 약함\n",
    "    loss = uncovered_ratio + alpha * (prob ** 2).sum()  # sparsity 유도 (확률 제곱합 최소화)\n",
    "    return loss, uncovered_ratio.item()\n"
   ]
  },
  {
   "cell_type": "code",
   "execution_count": 6,
   "id": "1101aeda-0f39-4914-bc49-35ac9ffc94d9",
   "metadata": {},
   "outputs": [],
   "source": [
    "def train_softmax(model, data, alpha=1.0, num_epochs=300, lr=0.01):\n",
    "    device = torch.device(\"cuda\" if torch.cuda.is_available() else \"cpu\")\n",
    "    model = model.to(device)\n",
    "    data = data.to(device)\n",
    "    optimizer = torch.optim.Adam(model.parameters(), lr=lr)\n",
    "\n",
    "    for epoch in range(1, num_epochs + 1):\n",
    "        model.train()\n",
    "        optimizer.zero_grad()\n",
    "\n",
    "        prob = model(data.x, data.edge_index, data.node_type)  # softmax 확률 (합 1)\n",
    "\n",
    "        loss, uncovered_ratio = compute_coverage_loss_softmax(\n",
    "            prob, data.edge_index, data.num_base_stations, data.num_grids, alpha=alpha\n",
    "        )\n",
    "\n",
    "        loss.backward()\n",
    "        optimizer.step()\n",
    "\n",
    "        if epoch % 10 == 0 or epoch == 1:\n",
    "            print(f\"[Epoch {epoch:03d}] Loss: {loss.item():.4f} | Uncovered: {uncovered_ratio:.4f}\")\n",
    "\n",
    "    return model\n"
   ]
  },
  {
   "cell_type": "code",
   "execution_count": 7,
   "id": "c46004cf-cfd5-4c39-8f84-73a5387b34d6",
   "metadata": {
    "scrolled": true
   },
   "outputs": [
    {
     "name": "stdout",
     "output_type": "stream",
     "text": [
      "[Epoch 001] Loss: 0.7669 | Uncovered: 0.3985\n",
      "[Epoch 010] Loss: 0.8106 | Uncovered: 0.4759\n",
      "[Epoch 020] Loss: 0.7859 | Uncovered: 0.4051\n",
      "[Epoch 030] Loss: 0.7583 | Uncovered: 0.4091\n",
      "[Epoch 040] Loss: 0.7688 | Uncovered: 0.3792\n",
      "[Epoch 050] Loss: 0.8751 | Uncovered: 0.4543\n",
      "[Epoch 060] Loss: 0.8187 | Uncovered: 0.4831\n",
      "[Epoch 070] Loss: 0.8274 | Uncovered: 0.4902\n",
      "[Epoch 080] Loss: 0.7870 | Uncovered: 0.4525\n",
      "[Epoch 090] Loss: 0.8114 | Uncovered: 0.4770\n",
      "[Epoch 100] Loss: 0.8167 | Uncovered: 0.4797\n",
      "[Epoch 110] Loss: 0.7709 | Uncovered: 0.4319\n",
      "[Epoch 120] Loss: 0.8961 | Uncovered: 0.5273\n",
      "[Epoch 130] Loss: 0.7919 | Uncovered: 0.4230\n",
      "[Epoch 140] Loss: 0.8781 | Uncovered: 0.5293\n",
      "[Epoch 150] Loss: 0.7776 | Uncovered: 0.4054\n",
      "[Epoch 160] Loss: 0.7779 | Uncovered: 0.4166\n",
      "[Epoch 170] Loss: 0.8092 | Uncovered: 0.4727\n",
      "[Epoch 180] Loss: 0.7777 | Uncovered: 0.4340\n",
      "[Epoch 190] Loss: 0.8014 | Uncovered: 0.4605\n",
      "[Epoch 200] Loss: 0.7784 | Uncovered: 0.4175\n",
      "[Epoch 210] Loss: 0.8302 | Uncovered: 0.4942\n",
      "[Epoch 220] Loss: 0.7925 | Uncovered: 0.4469\n",
      "[Epoch 230] Loss: 0.8005 | Uncovered: 0.4646\n",
      "[Epoch 240] Loss: 0.8821 | Uncovered: 0.5320\n",
      "[Epoch 250] Loss: 0.7928 | Uncovered: 0.4540\n",
      "[Epoch 260] Loss: 0.7850 | Uncovered: 0.4493\n",
      "[Epoch 270] Loss: 0.8354 | Uncovered: 0.4529\n",
      "[Epoch 280] Loss: 0.8201 | Uncovered: 0.4846\n",
      "[Epoch 290] Loss: 0.8202 | Uncovered: 0.4842\n",
      "[Epoch 300] Loss: 0.8036 | Uncovered: 0.4693\n"
     ]
    }
   ],
   "source": [
    "model = GNNSelector(in_channels=3, hidden_channels=64)\n",
    "trained_model = train_softmax(model, data, alpha=1.0, num_epochs=300)\n"
   ]
  },
  {
   "cell_type": "code",
   "execution_count": 8,
   "id": "f717ab14-660b-407e-898a-0490760cd7d9",
   "metadata": {},
   "outputs": [
    {
     "name": "stdout",
     "output_type": "stream",
     "text": [
      "📌 각 기지국 선택 확률:\n",
      "기지국 0: 선택 확률 = 0.3333\n",
      "기지국 1: 선택 확률 = 0.3333\n",
      "기지국 2: 선택 확률 = 0.3333\n"
     ]
    }
   ],
   "source": [
    "trained_model.eval()\n",
    "with torch.no_grad():\n",
    "    prob = trained_model(data.x, data.edge_index, data.node_type)  # shape: (num_base_stations,)\n",
    "    print(\"📌 각 기지국 선택 확률:\")\n",
    "    for i, p in enumerate(prob.tolist()):\n",
    "        print(f\"기지국 {i}: 선택 확률 = {p:.4f}\")\n"
   ]
  },
  {
   "cell_type": "code",
   "execution_count": 9,
   "id": "339be2d6-308d-4067-ba2e-279b479a9cdb",
   "metadata": {},
   "outputs": [
    {
     "name": "stdout",
     "output_type": "stream",
     "text": [
      "선택된 기지국 수: 0\n",
      "선택된 기지국 인덱스: []\n"
     ]
    }
   ],
   "source": [
    "with torch.no_grad():\n",
    "    prob = model(data.x, data.edge_index, data.node_type)  # shape: (num_base_stations,)\n",
    "    selected = (prob > 0.6).float()  # 확률이 0.5 초과인 기지국만 선택\n",
    "    selected_indices = selected.nonzero(as_tuple=True)[0].cpu().numpy()\n",
    "    print(f\"선택된 기지국 수: {len(selected_indices)}\")\n",
    "    print(f\"선택된 기지국 인덱스: {selected_indices}\")"
   ]
  },
  {
   "cell_type": "code",
   "execution_count": 10,
   "id": "a3c40604-fda4-4f90-a599-401fb6c3b921",
   "metadata": {},
   "outputs": [
    {
     "data": {
      "image/png": "[encoded data removed]",
      "text/plain": [
       "<Figure size 1000x1000 with 1 Axes>"
      ]
     },
     "metadata": {},
     "output_type": "display_data"
    },
    {
     "name": "stdout",
     "output_type": "stream",
     "text": [
      "커버된 격자점 수: 0 / 10000\n",
      "선택된 기지국 인덱스: []\n",
      "커버율: 0.00%\n",
      "일부 영역이 커버 X\n"
     ]
    }
   ],
   "source": [
    "import matplotlib.pyplot as plt\n",
    "from torch_scatter import scatter_add\n",
    "\n",
    "# 1. 좌표 추출\n",
    "base_coords = data.x[:data.num_base_stations, :2].cpu().numpy()\n",
    "base_radii = data.x[:data.num_base_stations, 2].cpu().numpy()\n",
    "grid_coords = data.x[data.num_base_stations:, :2].cpu().numpy()\n",
    "\n",
    "# 2. 선택된 기지국 확률 > 0.5 기준\n",
    "with torch.no_grad():\n",
    "    prob = trained_model(data.x, data.edge_index, data.node_type)\n",
    "    selected = (prob > 0.6).float()\n",
    "    selected_indices = selected.nonzero(as_tuple=True)[0].cpu().numpy()\n",
    "\n",
    "# 3. 선택된 기지국으로 grid 커버 계산\n",
    "selected_prob = prob * selected.to(prob.device)\n",
    "\n",
    "base_indices = data.edge_index[0]\n",
    "grid_indices = data.edge_index[1] - data.num_base_stations\n",
    "\n",
    "# 선택된 기지국의 확률만 반영\n",
    "edge_weights = selected_prob[base_indices]\n",
    "grid_coverage = scatter_add(edge_weights, grid_indices, dim=0, dim_size=data.num_grids)\n",
    "grid_coverage = grid_coverage.clamp(max=1.0).cpu().numpy()\n",
    "\n",
    "# 4. 커버 시각화\n",
    "plt.figure(figsize=(10, 10))\n",
    "\n",
    "# 커버된 격자점: 파란색 / 안 된 격자점: 검정색\n",
    "covered_mask = grid_coverage >= 0.5\n",
    "plt.scatter(grid_coords[covered_mask][:, 0], grid_coords[covered_mask][:, 1], s=1, color='blue', label=\"Covered Grid\")\n",
    "plt.scatter(grid_coords[~covered_mask][:, 0], grid_coords[~covered_mask][:, 1], s=1, color='black', label=\"Uncovered Grid\")\n",
    "\n",
    "# 선택된 기지국 시각화\n",
    "for idx in selected_indices:\n",
    "    bx, by = base_coords[idx]\n",
    "    br = base_radii[idx]\n",
    "    plt.scatter(bx, by, color='red', s=100, label='Selected Base Station' if idx == selected_indices[0] else \"\")\n",
    "    circle = plt.Circle((bx, by), br, color='red', alpha=0.15)\n",
    "    plt.gca().add_patch(circle)\n",
    "\n",
    "plt.legend()\n",
    "plt.title(\"Selected Base Stations and Coverage\")\n",
    "plt.xlim(0, 1000)\n",
    "plt.ylim(0, 1000)\n",
    "plt.gca().set_aspect('equal', adjustable='box')\n",
    "plt.grid(True)\n",
    "plt.show()\n",
    "\n",
    "# 커버된 격자점 수 계산\n",
    "num_covered = (grid_coverage >= 0.5).sum()\n",
    "num_total = data.num_grids\n",
    "coverage_ratio = num_covered / num_total\n",
    "\n",
    "print(f\"커버된 격자점 수: {num_covered} / {num_total}\")\n",
    "print(f\"선택된 기지국 인덱스: {selected_indices.tolist()}\")\n",
    "print(f\"커버율: {coverage_ratio:.2%}\")\n",
    "\n",
    "\n",
    "if coverage_ratio >= 1.0:\n",
    "    print(\"모든 영역이 커버 O\")\n",
    "else:\n",
    "    print(\"일부 영역이 커버 X\")\n",
    "\n"
   ]
  },
  {
   "cell_type": "code",
   "execution_count": 11,
   "id": "5f9ece62-ace3-4403-ac74-1e6a1a6f7cf2",
   "metadata": {},
   "outputs": [
    {
     "ename": "SyntaxError",
     "evalue": "invalid syntax (653016246.py, line 1)",
     "output_type": "error",
     "traceback": [
      "\u001b[1;36m  Cell \u001b[1;32mIn[11], line 1\u001b[1;36m\u001b[0m\n\u001b[1;33m    echo \"# GNN\" >> README.md\u001b[0m\n\u001b[1;37m         ^\u001b[0m\n\u001b[1;31mSyntaxError\u001b[0m\u001b[1;31m:\u001b[0m invalid syntax\n"
     ]
    }
   ],
   "source": [
    "echo \"# GNN\" >> README.md\n",
    "git init\n",
    "git add README.md\n",
    "git commit -m \"first commit\"\n",
    "git branch -M main\n",
    "git remote add origin https://github.com/Mindong02/GNN.git\n",
    "git push -u origin main"
   ]
  }
 ],
 "metadata": {
  "kernelspec": {
   "display_name": "Python 3 (ipykernel)",
   "language": "python",
   "name": "python3"
  },
  "language_info": {
   "codemirror_mode": {
    "name": "ipython",
    "version": 3
   },
   "file_extension": ".py",
   "mimetype": "text/x-python",
   "name": "python",
   "nbconvert_exporter": "python",
   "pygments_lexer": "ipython3",
   "version": "3.10.0"
  }
 },
 "nbformat": 4,
 "nbformat_minor": 5
}
